{
 "cells": [
  {
   "cell_type": "code",
   "execution_count": 1,
   "metadata": {},
   "outputs": [
    {
     "name": "stdout",
     "output_type": "stream",
     "text": [
      "Hasil 9 + 8 = 17\n",
      "Hasil 9 - 8 = 17\n"
     ]
    }
   ],
   "source": [
    "#Nama Yulia Putri Wahyu Ningtiyas\n",
    "c = 9\n",
    "d = 8\n",
    "\n",
    "# Menggunakan operator penjumlahan\n",
    "e = c + d\n",
    "print (\"Hasil\", c, \"+\" ,d, \"=\", e)\n",
    "\n",
    "# operator pengurangan\n",
    "h = c - d\n",
    "print (\"Hasil\", c, \"-\" , d, \"=\", e)"
   ]
  },
  {
   "cell_type": "code",
   "execution_count": 2,
   "metadata": {},
   "outputs": [
    {
     "name": "stdout",
     "output_type": "stream",
     "text": [
      "13\n",
      "23\n"
     ]
    }
   ],
   "source": [
    "#Nama Yulia Putri Wahyu Ningtiyas\n",
    "a = 13 #contoh operator penugasan untuk mengisi nilai\n",
    "print(a)\n",
    "\n",
    "a +=10 # Jumlahkan nilai a dengan operator penugasan untuk menjumlahkan\n",
    "\n",
    "# setelah nilai a di tambah 10, tampilkan isinya\n",
    "print(a)"
   ]
  },
  {
   "cell_type": "code",
   "execution_count": 5,
   "metadata": {},
   "outputs": [
    {
     "name": "stdout",
     "output_type": "stream",
     "text": [
      "apakah d sama dengan e: False\n",
      "Apakah d lebih besar dari e: True\n"
     ]
    }
   ],
   "source": [
    "#Nama Yulia Putri Wahyu Ningtiyas\n",
    "d = 18\n",
    "e = 9\n",
    "\n",
    "#apakah d sama dengan e?\n",
    "f = d == e\n",
    "print (\"apakah d sama dengan e:\", f)\n",
    "\n",
    "#apakah d lebih besar dari e?\n",
    "f = d > e\n",
    "print (\"Apakah d lebih besar dari e:\", f)"
   ]
  },
  {
   "cell_type": "code",
   "execution_count": 6,
   "metadata": {},
   "outputs": [
    {
     "name": "stdout",
     "output_type": "stream",
     "text": [
      "False\n"
     ]
    }
   ],
   "source": [
    "#Nama Yulia Putri Wahyu Ningtiyas\n",
    "a = False\n",
    "b = True\n",
    "\n",
    "# Logika AND\n",
    "c = a and b\n",
    "print(c)"
   ]
  },
  {
   "cell_type": "code",
   "execution_count": 11,
   "metadata": {},
   "outputs": [
    {
     "name": "stdout",
     "output_type": "stream",
     "text": [
      "masukan nama bayi :suga\n",
      "masukan berat badan bayi (KG)3\n",
      "Berat badannya 30 (ons)\n",
      "hello kiko berat badan bayi adalah 3 KG atau 30 ons, 1 bualn kemudian 60 ons\n"
     ]
    }
   ],
   "source": [
    "#Yulia Putri Wahyu Ningtiyas\n",
    "#input output\n",
    "\n",
    "#menampilkan input\n",
    "nama_bayi = (input (\"masukan nama bayi :\"))\n",
    "berat_badan = int (input(\"masukan berat badan bayi (KG)\"))\n",
    "\n",
    "ons = berat_badan * 10\n",
    "print (\"Berat badannya\", ons, \"(ons)\")\n",
    "berat_badan_1bulan = ons + 30\n",
    "\n",
    "\n",
    "print (\"hello\", name, \"berat badan bayi adalah\", berat_badan, \"KG\", \"atau\", ons, \"ons,\", \"1 bualn kemudian\", berat_badan_1bulan, \"ons\")"
   ]
  },
  {
   "cell_type": "code",
   "execution_count": null,
   "metadata": {},
   "outputs": [],
   "source": []
  }
 ],
 "metadata": {
  "kernelspec": {
   "display_name": "Python 3",
   "language": "python",
   "name": "python3"
  },
  "language_info": {
   "codemirror_mode": {
    "name": "ipython",
    "version": 3
   },
   "file_extension": ".py",
   "mimetype": "text/x-python",
   "name": "python",
   "nbconvert_exporter": "python",
   "pygments_lexer": "ipython3",
   "version": "3.8.3"
  }
 },
 "nbformat": 4,
 "nbformat_minor": 4
}
