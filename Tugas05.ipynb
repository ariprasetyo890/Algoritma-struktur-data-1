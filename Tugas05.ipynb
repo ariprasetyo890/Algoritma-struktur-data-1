{
 "cells": [
  {
   "cell_type": "code",
   "execution_count": 1,
   "metadata": {},
   "outputs": [
    {
     "name": "stdout",
     "output_type": "stream",
     "text": [
      "I like programming\n",
      "Because I proud to make something new\n"
     ]
    }
   ],
   "source": [
    "#Yulia Putri Wahyu Ningtiyas\n",
    "#Membuat Fungsi\n",
    "\n",
    "def a ():\n",
    "    print (\"Because I proud to make something new\")\n",
    "    \n",
    "def b () :\n",
    "    print(\"I like programming\")\n",
    "#Pemanggilan Fungsi\n",
    "b()\n",
    "a()"
   ]
  },
  {
   "cell_type": "code",
   "execution_count": 2,
   "metadata": {},
   "outputs": [
    {
     "name": "stdout",
     "output_type": "stream",
     "text": [
      "Hi, my name is Yulia Putri W.N\n",
      "Hi, my name is Yulia Putri W.N\n",
      "Hi, my name is Yulia Putri W.N\n"
     ]
    }
   ],
   "source": [
    "#Membuat fungsi\n",
    "\n",
    "def biodata ():\n",
    "    print (\"Hi, my name is Yulia Putri W.N\")\n",
    "#pengambilan fungsi\n",
    "biodata()\n",
    "biodata()\n",
    "biodata()"
   ]
  },
  {
   "cell_type": "code",
   "execution_count": 3,
   "metadata": {},
   "outputs": [
    {
     "name": "stdout",
     "output_type": "stream",
     "text": [
      "Happy Birhday and many happy returns\n"
     ]
    }
   ],
   "source": [
    "#Membuat fungsi dengan parameter\n",
    "def ucapan (ulangtahun):\n",
    "    print (ulangtahun)\n",
    "ucapan (\"Happy Birhday and many happy returns\")"
   ]
  },
  {
   "cell_type": "code",
   "execution_count": 4,
   "metadata": {},
   "outputs": [],
   "source": [
    " "
   ]
  },
  {
   "cell_type": "code",
   "execution_count": 5,
   "metadata": {},
   "outputs": [
    {
     "name": "stdout",
     "output_type": "stream",
     "text": [
      "I like programming\n",
      "Because I proud to make something new\n"
     ]
    }
   ],
   "source": [
    "#Yulia Putri W.N\n",
    "#Membuat fungsi 1\n",
    "\n",
    "def a ():\n",
    "    print (\"Because I proud to make something new\")\n",
    "    \n",
    "#Membuat Fungsi 1\n",
    "def b () :\n",
    "    print(\"I like programming\")\n",
    "#Pemanggilan Fungsi\n",
    "b()\n",
    "a()"
   ]
  },
  {
   "cell_type": "code",
   "execution_count": 7,
   "metadata": {},
   "outputs": [
    {
     "name": "stdout",
     "output_type": "stream",
     "text": [
      "Masukkan Nama Anda :putri\n",
      "Nama saya adalah  putri\n",
      "Luas persegi panjang adalah : 50\n",
      "Luas persegi panjang adalah : 5000\n"
     ]
    }
   ],
   "source": [
    "#Yulia Putri W.N\n",
    "#Membuat Fungsi Parameter\n",
    "\n",
    "#Fungsi pertama non parameter\n",
    "def perkenalan():\n",
    "    nama = input(\"Masukkan Nama Anda :\")\n",
    "    print (\"Nama saya adalah \", nama)\n",
    "#Fungsi kedua dengan parameter\n",
    "def luas_persegipanjang(panjang, lebar):\n",
    "    luas = panjang * lebar\n",
    "    print(\"Luas persegi panjang adalah :\", luas)\n",
    "    \n",
    "#Panggilan Fungsi parameter\n",
    "perkenalan()\n",
    "luas_persegipanjang(5,10)\n",
    "luas_persegipanjang(100,50)"
   ]
  },
  {
   "cell_type": "code",
   "execution_count": 3,
   "metadata": {},
   "outputs": [
    {
     "name": "stdout",
     "output_type": "stream",
     "text": [
      "Masukan angka ke 1 :5\n",
      "Masukan angka ke 2 :5\n",
      "Apakah angka ke 1 sama dengan angka ke 2? : True\n",
      "Apakah angka ke 1 lebih besar dari angka ke 2? : False\n"
     ]
    }
   ],
   "source": [
    "#Yulia Putri Wahyu Ningtiyas\n",
    "#Membuat fungsi\n",
    "\n",
    "#Input\n",
    "angka1 = int(input(\"Masukan angka ke 1 :\"))\n",
    "angka2 = int (input(\"Masukan angka ke 2 :\"))\n",
    "\n",
    "#Fungsi 1\n",
    "def sama_dengan():\n",
    "    logika1 = angka1 == angka2\n",
    "    print (\"Apakah angka ke 1 sama dengan angka ke 2? :\", logika1)\n",
    "    \n",
    "#Fungsi 2\n",
    "def lebih_besar():\n",
    "    logika2 = angka1 > angka2\n",
    "    print (\"Apakah angka ke 1 lebih besar dari angka ke 2? :\", logika2)\n",
    "    \n",
    "#Pemanggilan Fungsi\n",
    "sama_dengan()\n",
    "lebih_besar()"
   ]
  },
  {
   "cell_type": "code",
   "execution_count": null,
   "metadata": {},
   "outputs": [],
   "source": []
  },
  {
   "cell_type": "code",
   "execution_count": null,
   "metadata": {},
   "outputs": [],
   "source": []
  }
 ],
 "metadata": {
  "kernelspec": {
   "display_name": "Python 3",
   "language": "python",
   "name": "python3"
  },
  "language_info": {
   "codemirror_mode": {
    "name": "ipython",
    "version": 3
   },
   "file_extension": ".py",
   "mimetype": "text/x-python",
   "name": "python",
   "nbconvert_exporter": "python",
   "pygments_lexer": "ipython3",
   "version": "3.8.3"
  }
 },
 "nbformat": 4,
 "nbformat_minor": 4
}
