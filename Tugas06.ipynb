{
 "cells": [
  {
   "cell_type": "code",
   "execution_count": 1,
   "metadata": {},
   "outputs": [
    {
     "name": "stdout",
     "output_type": "stream",
     "text": [
      "masukkan r4\n",
      "luas lingkaran adalah 50.24\n",
      "lingkaran ini kecil\n"
     ]
    }
   ],
   "source": [
    "#Yulia Putri Wahyu Ningtiyas\n",
    "\n",
    "r = int(input(\"masukkan r\"))\n",
    "l = 3.14 *r*r\n",
    "print (\"luas lingkaran adalah\", l)\n",
    "\n",
    "if l >= 314:\n",
    "    print (\"lingkaran ini besar\")\n",
    "else:\n",
    "    print(\"lingkaran ini kecil\")\n"
   ]
  },
  {
   "cell_type": "code",
   "execution_count": 2,
   "metadata": {},
   "outputs": [
    {
     "name": "stdout",
     "output_type": "stream",
     "text": [
      "masukkan r30\n",
      "luas lingkaran adalah 2826.0\n",
      "lingkaran ini besar\n"
     ]
    }
   ],
   "source": [
    "#Yulia Putri Wahyu Ningtiyas\n",
    "\n",
    "r = int(input(\"masukkan r\"))\n",
    "l = 3.14 *r*r\n",
    "print (\"luas lingkaran adalah\", l)\n",
    "\n",
    "if l >= 314:\n",
    "    print (\"lingkaran ini besar\")\n",
    "else:\n",
    "    print(\"lingkaran ini kecil\")\n"
   ]
  },
  {
   "cell_type": "code",
   "execution_count": 3,
   "metadata": {},
   "outputs": [
    {
     "name": "stdout",
     "output_type": "stream",
     "text": [
      "Masukkan nilai6\n",
      "harus ikut remidi\n"
     ]
    }
   ],
   "source": [
    "#Yulia Putri Wahyu Ningtiyas\n",
    "#percabangan if\n",
    "\n",
    "nilai = int (input(\"Masukkan nilai\"))\n",
    "\n",
    "if nilai <= 70:\n",
    "    print (\"harus ikut remidi\")"
   ]
  },
  {
   "cell_type": "code",
   "execution_count": 5,
   "metadata": {},
   "outputs": [
    {
     "name": "stdout",
     "output_type": "stream",
     "text": [
      "[1/2] : 1\n",
      "Masukkan nilai p:5\n",
      "Masukkan nili l:6\n",
      "Masukkan nilai t:6\n",
      "volume balok 180\n"
     ]
    }
   ],
   "source": [
    "#Yulia Putri Wahyu Ningtiyas\n",
    "\n",
    "\n",
    "def volume_balok ():\n",
    "    p = int(input(\"Masukkan nilai p:\"))\n",
    "    l = int(input(\"Masukkan nili l:\"))\n",
    "    t = int(input(\"Masukkan nilai t:\"))\n",
    "    v_balok = p*l*t\n",
    "    return v_balok\n",
    "\n",
    "def volume_kubus ():\n",
    "    s = int(input(\"Masukkan nilai S: \"))\n",
    "    v_kubus = s*s*s\n",
    "    return_kubus\n",
    "    \n",
    "pilihan = int(input(\"[1/2] : \"))\n",
    "if pilihan == 1 :\n",
    "    print (\"volume balok\", volume_balok ())\n",
    "    \n",
    "elif pilihan == 2 :\n",
    "    print (\"volume kubus\", volume_kubus ())\n",
    "    \n",
    "else :\n",
    "    print (\"tidak ada program\")"
   ]
  },
  {
   "cell_type": "code",
   "execution_count": null,
   "metadata": {},
   "outputs": [],
   "source": []
  }
 ],
 "metadata": {
  "kernelspec": {
   "display_name": "Python 3",
   "language": "python",
   "name": "python3"
  },
  "language_info": {
   "codemirror_mode": {
    "name": "ipython",
    "version": 3
   },
   "file_extension": ".py",
   "mimetype": "text/x-python",
   "name": "python",
   "nbconvert_exporter": "python",
   "pygments_lexer": "ipython3",
   "version": "3.8.3"
  }
 },
 "nbformat": 4,
 "nbformat_minor": 4
}
