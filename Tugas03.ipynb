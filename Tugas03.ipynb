{
 "cells": [
  {
   "cell_type": "code",
   "execution_count": 1,
   "metadata": {},
   "outputs": [
    {
     "name": "stdout",
     "output_type": "stream",
     "text": [
      "Nilai Yuli adalah 100\n"
     ]
    },
    {
     "ename": "NameError",
     "evalue": "name 'nilai' is not defined",
     "output_type": "error",
     "traceback": [
      "\u001b[1;31m---------------------------------------------------------------------------\u001b[0m",
      "\u001b[1;31mNameError\u001b[0m                                 Traceback (most recent call last)",
      "\u001b[1;32m<ipython-input-1-3754c07b1e3c>\u001b[0m in \u001b[0;36m<module>\u001b[1;34m\u001b[0m\n\u001b[0;32m      6\u001b[0m \u001b[1;33m\u001b[0m\u001b[0m\n\u001b[0;32m      7\u001b[0m \u001b[1;32mdel\u001b[0m \u001b[1;33m(\u001b[0m\u001b[0mnilai\u001b[0m\u001b[1;33m)\u001b[0m\u001b[1;33m\u001b[0m\u001b[1;33m\u001b[0m\u001b[0m\n\u001b[1;32m----> 8\u001b[1;33m \u001b[0mprint\u001b[0m \u001b[1;33m(\u001b[0m\u001b[0mnilai\u001b[0m\u001b[1;33m)\u001b[0m\u001b[1;33m\u001b[0m\u001b[1;33m\u001b[0m\u001b[0m\n\u001b[0m\u001b[0;32m      9\u001b[0m \u001b[1;33m\u001b[0m\u001b[0m\n",
      "\u001b[1;31mNameError\u001b[0m: name 'nilai' is not defined"
     ]
    }
   ],
   "source": [
    "#Yulia Putri Wahyu Ningtiyas\n",
    "#Buat satu variable,cetak variable, delete print lagi\n",
    "\n",
    "nilai = 100 #variable : nilai  \n",
    "print (\"Nilai Yuli adalah\", nilai)\n",
    "\n",
    "del (nilai)\n",
    "print (nilai)\n",
    "\n"
   ]
  },
  {
   "cell_type": "code",
   "execution_count": 2,
   "metadata": {},
   "outputs": [
    {
     "name": "stdout",
     "output_type": "stream",
     "text": [
      "keliling lingkaran sama dengan 314.0\n"
     ]
    }
   ],
   "source": [
    "#Yulia Putri Wahyu Ningtiyas\n",
    "#menghitung keliling lingkaran\n",
    "\n",
    "r = 50  #variabel: r, #tipe data :integer\n",
    "phi = 3.14 #variabel: phi , #tipe data : float\n",
    "kel = 2*phi*r #variabel;kel\n",
    "print (\"keliling lingkaran sama dengan\", kel)"
   ]
  },
  {
   "cell_type": "code",
   "execution_count": 4,
   "metadata": {},
   "outputs": [
    {
     "name": "stdout",
     "output_type": "stream",
     "text": [
      "True\n",
      "False\n"
     ]
    }
   ],
   "source": [
    "#Yilia Putri Wahyu Ningtiyas\n",
    "#Perbandingan Boolean True\n",
    "\n",
    "print (13>10)\n",
    "print (13<10)"
   ]
  },
  {
   "cell_type": "code",
   "execution_count": 5,
   "metadata": {},
   "outputs": [
    {
     "name": "stdout",
     "output_type": "stream",
     "text": [
      "Biodata Mahasiswa\n",
      "Nama : Yulia Putri Wahyu Ningtiyas\n",
      "NIM : 20090119\n",
      "      \n",
      "Dia mahasiswa 1 yang berprestasi, karena memiliki IPK sebesar 3.98\n"
     ]
    },
    {
     "ename": "NameError",
     "evalue": "name 'ipk' is not defined",
     "output_type": "error",
     "traceback": [
      "\u001b[1;31m---------------------------------------------------------------------------\u001b[0m",
      "\u001b[1;31mNameError\u001b[0m                                 Traceback (most recent call last)",
      "\u001b[1;32m<ipython-input-5-1c1cdd1976c7>\u001b[0m in \u001b[0;36m<module>\u001b[1;34m\u001b[0m\n\u001b[0;32m     14\u001b[0m \u001b[1;33m\u001b[0m\u001b[0m\n\u001b[0;32m     15\u001b[0m \u001b[1;32mdel\u001b[0m \u001b[1;33m(\u001b[0m\u001b[0mipk\u001b[0m\u001b[1;33m)\u001b[0m\u001b[1;33m\u001b[0m\u001b[1;33m\u001b[0m\u001b[0m\n\u001b[1;32m---> 16\u001b[1;33m \u001b[0mprint\u001b[0m \u001b[1;33m(\u001b[0m\u001b[0mipk\u001b[0m\u001b[1;33m)\u001b[0m\u001b[1;33m\u001b[0m\u001b[1;33m\u001b[0m\u001b[0m\n\u001b[0m",
      "\u001b[1;31mNameError\u001b[0m: name 'ipk' is not defined"
     ]
    }
   ],
   "source": [
    "#Yulia Putri Wahyu Ningtiyas\n",
    "#Mencetak Biodata Mahasiswa\n",
    "\n",
    "print (\"Biodata Mahasiswa\")\n",
    "nama = \"Yulia Putri Wahyu Ningtiyas\" #variabel : nama #tipe_data : string\n",
    "nim = \"\"\"20090119\n",
    "      \"\"\"                            #variabel : nim #tipe_data : string\n",
    "semestre = 1                         #variabel : semester#tipe_data : integer\n",
    "ipk = 3.98                           #variabel : ipk #tipe_data: float\n",
    "\n",
    "print (\"Nama :\", nama)\n",
    "print (\"NIM :\", nim)\n",
    "print (\"Dia mahasiswa 1 yang berprestasi, karena memiliki IPK sebesar\", ipk)\n",
    "\n",
    "del (ipk)\n",
    "print (ipk)"
   ]
  },
  {
   "cell_type": "code",
   "execution_count": null,
   "metadata": {},
   "outputs": [],
   "source": []
  }
 ],
 "metadata": {
  "kernelspec": {
   "display_name": "Python 3",
   "language": "python",
   "name": "python3"
  },
  "language_info": {
   "codemirror_mode": {
    "name": "ipython",
    "version": 3
   },
   "file_extension": ".py",
   "mimetype": "text/x-python",
   "name": "python",
   "nbconvert_exporter": "python",
   "pygments_lexer": "ipython3",
   "version": "3.8.3"
  }
 },
 "nbformat": 4,
 "nbformat_minor": 4
}
